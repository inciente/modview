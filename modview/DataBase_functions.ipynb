{
 "cells": [
  {
   "cell_type": "code",
   "execution_count": 1,
   "id": "d95ec608",
   "metadata": {},
   "outputs": [],
   "source": [
    "import sqlite3\n",
    "conn = sqlite3.connect('LoaderDB3.db') # connection\n",
    "conn.row_factory = sqlite3.Row\n",
    "c = conn.cursor()"
   ]
  },
  {
   "cell_type": "code",
   "execution_count": 2,
   "id": "7df510cb",
   "metadata": {},
   "outputs": [],
   "source": [
    "def Prepare_id(**kwargs):\n",
    "    Data = \"SELECT * FROM OBJ_ID\"\n",
    "    i = 0\n",
    "    for key, value in kwargs.items():\n",
    "        if i == 0:\n",
    "            Data += \" WHERE \"\n",
    "        else:\n",
    "            Data += \" AND \"\n",
    "        Data += \"{}='{}'\".format(key, value)\n",
    "        i += 1\n",
    "    Data += \";\"\n",
    "    return c.execute(Data)\n",
    "\n",
    "\n",
    "def format_change(DICT):\n",
    "    limits_keys = ['t0','t1','lon','lat']\n",
    "    for n in range(len(DICT)):\n",
    "        DICT[n]['limits'] = {key: DICT[n][key] for key in DICT[n] if key in limits_keys}\n",
    "        for key in limits_keys: del DICT[n][key]\n",
    "            \n",
    "def id_maker(**kwargs):\n",
    "    Prepare_id(**kwargs)\n",
    "    A = [dict(row) for row in c.fetchall()]\n",
    "    format_change(A)\n",
    "    return A\n",
    "\n",
    "def Data_extraction(obj_id, n, **kwargs):\n",
    "    combiner_id = obj_id[n]['COMBINER_ID']\n",
    "    common_str = 'SELECT * FROM COMBINER AS c INNER JOIN DATASOURCES as d ON c.Data_obj = d.Data_obj WHERE c.COMBINER_ID = %d'\n",
    "    i = 1\n",
    "    for key, value in kwargs.items():\n",
    "        common_str += \" AND d.\"\n",
    "        common_str += \"{}='{}'\".format(key, value)\n",
    "        i += 1\n",
    "    common_str += \";\"\n",
    "    c.execute(common_str %combiner_id)\n",
    "    return [dict(row) for row in c.fetchall()] \n",
    "\n",
    "def path_maker(DataSources, data_dir):\n",
    "    Dir = {}\n",
    "    for kk in range(len(DataSources)):\n",
    "        if DataSources[kk]['Source'] not in Dir:\n",
    "            if DataSources[kk]['Source'] != 'ADCP':\n",
    "                Dir[DataSources[kk]['Source']] = [data_dir + DataSources[kk]['Filepath']]\n",
    "            else:\n",
    "                Dir[DataSources[kk]['Source']] = [data_dir + 'ADCP/' + DataSources[kk]['Filepath']]\n",
    "        elif DataSources[kk]['Source'] in Dir:\n",
    "            if DataSources[kk]['Source'] != 'ADCP':\n",
    "                Dir[DataSources[kk]['Source']].append(data_dir + DataSources[kk]['Filepath'])\n",
    "            else:\n",
    "                Dir[DataSources[kk]['Source']].append(data_dir + 'ADCP/' + DataSources[kk]['Filepath'])\n",
    "    return Dir"
   ]
  }
 ],
 "metadata": {
  "kernelspec": {
   "display_name": "Python 3",
   "language": "python",
   "name": "python3"
  },
  "language_info": {
   "codemirror_mode": {
    "name": "ipython",
    "version": 3
   },
   "file_extension": ".py",
   "mimetype": "text/x-python",
   "name": "python",
   "nbconvert_exporter": "python",
   "pygments_lexer": "ipython3",
   "version": "3.8.8"
  }
 },
 "nbformat": 4,
 "nbformat_minor": 5
}
