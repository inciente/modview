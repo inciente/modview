{
 "cells": [
  {
   "cell_type": "code",
   "execution_count": 1,
   "id": "f689d4b2",
   "metadata": {},
   "outputs": [],
   "source": [
    "import numpy as np; import pandas as pd\n",
    "import xarray as xr; import matplotlib.pyplot as plt;\n",
    "from assemble_class import assemble\n",
    "import sqlite3"
   ]
  },
  {
   "cell_type": "code",
   "execution_count": 2,
   "id": "2645796c",
   "metadata": {},
   "outputs": [],
   "source": [
    "conn = sqlite3.connect('LoaderDB.db') # connection\n",
    "conn.row_factory = sqlite3.Row\n",
    "c = conn.cursor()\n",
    "c.execute('SELECT * from loaderDB')\n",
    "My_DICTs = [dict(row) for row in c.fetchall()]"
   ]
  },
  {
   "cell_type": "code",
   "execution_count": 3,
   "id": "c0ccd923",
   "metadata": {},
   "outputs": [
    {
     "data": {
      "text/plain": [
       "{'name': 'SIO1',\n",
       " 'type': 'MOORING',\n",
       " 'project': 'PISTON',\n",
       " 't0': '2019-02-01',\n",
       " 't1': '2019-02-07',\n",
       " 'lon': 134.7,\n",
       " 'lat': 12.3}"
      ]
     },
     "execution_count": 3,
     "metadata": {},
     "output_type": "execute_result"
    }
   ],
   "source": [
    "My_DICTs[0]"
   ]
  },
  {
   "cell_type": "code",
   "execution_count": 4,
   "id": "b9a5cdda",
   "metadata": {},
   "outputs": [
    {
     "data": {
      "text/plain": [
       "{'name': 'SIO1',\n",
       " 'type': 'MOORING',\n",
       " 'project': 'PISTON',\n",
       " 't0': '2019-02-01',\n",
       " 't1': '2019-02-07',\n",
       " 'lon': 134.7,\n",
       " 'lat': 12.3}"
      ]
     },
     "execution_count": 4,
     "metadata": {},
     "output_type": "execute_result"
    }
   ],
   "source": [
    "obj_1 = My_DICTs[0].copy()\n",
    "obj_1"
   ]
  },
  {
   "cell_type": "code",
   "execution_count": 5,
   "id": "08428d49",
   "metadata": {},
   "outputs": [],
   "source": [
    "limits_keys = ['t0','t1','lon','lat']\n",
    "obj_1['limits'] = {key: obj_1[key] for key in obj_1 if key in limits_keys}\n",
    "for key in limits_keys: del obj_1[key]"
   ]
  },
  {
   "cell_type": "code",
   "execution_count": 7,
   "id": "a6903f97",
   "metadata": {},
   "outputs": [
    {
     "data": {
      "text/plain": [
       "{'name': 'SIO1',\n",
       " 'type': 'MOORING',\n",
       " 'project': 'PISTON',\n",
       " 't0': '2019-02-01',\n",
       " 't1': '2019-02-07',\n",
       " 'lon': 134.7,\n",
       " 'lat': 12.3,\n",
       " 'limits': {'t0': '2019-02-01', 't1': '2019-02-07', 'lon': 134.7, 'lat': 12.3}}"
      ]
     },
     "execution_count": 7,
     "metadata": {},
     "output_type": "execute_result"
    }
   ],
   "source": [
    "My_DICTs[0]"
   ]
  },
  {
   "cell_type": "code",
   "execution_count": 8,
   "id": "1acd85e1",
   "metadata": {},
   "outputs": [],
   "source": [
    "def format_change(DICT):\n",
    "    limits_keys = ['t0','t1','lon','lat']\n",
    "    for n in range(len(DICT)):\n",
    "        DICT[n]['limits'] = {key: DICT[n][key] for key in My_DICTs[n] if key in limits_keys}\n",
    "        for key in limits_keys: del DICT[n][key]"
   ]
  },
  {
   "cell_type": "code",
   "execution_count": 9,
   "id": "42b7a9c5",
   "metadata": {},
   "outputs": [],
   "source": [
    "format_change(My_DICTs)"
   ]
  },
  {
   "cell_type": "code",
   "execution_count": 13,
   "id": "c3352c68",
   "metadata": {},
   "outputs": [
    {
     "data": {
      "text/plain": [
       "{'name': 'SIO1',\n",
       " 'type': 'MOORING',\n",
       " 'project': 'PISTON',\n",
       " 'limits': {'t0': '2019-02-14', 't1': '2019-02-20', 'lon': 134.7, 'lat': 12.3}}"
      ]
     },
     "execution_count": 13,
     "metadata": {},
     "output_type": "execute_result"
    }
   ],
   "source": [
    "My_DICTs[2]"
   ]
  },
  {
   "cell_type": "code",
   "execution_count": 14,
   "id": "5202e4f9",
   "metadata": {},
   "outputs": [],
   "source": [
    "adcpfolder = '/Documentos/CUCEI LIFI/Practicas Profesionales/modview/Archivos_Prueba/SIO1/'\n",
    "filenames_1 = ['SIO1_3160.nc','SIO1_4021.nc','SIO1_11181.nc'];\n",
    "files_1 = [adcpfolder + filenames_1[kk] for kk in range(len(filenames_1))]\n",
    "\n",
    "### Para probar con  SIO3  ####\n",
    "\n",
    "# filenames_2 = []\n",
    "# files_2 = [adcpfolder + filenames_2[kk] for kk in range(len(filenames_1))]"
   ]
  },
  {
   "cell_type": "code",
   "execution_count": 20,
   "id": "49f26ac2",
   "metadata": {},
   "outputs": [],
   "source": [
    "SIO1 = assemble(My_DICTs[1], files_1)\n",
    "vars2plot = ['u'];"
   ]
  },
  {
   "cell_type": "code",
   "execution_count": 21,
   "id": "f36a1da4",
   "metadata": {},
   "outputs": [
    {
     "data": {
      "text/plain": [
       "<matplotlib.collections.QuadMesh at 0x2a28189a400>"
      ]
     },
     "execution_count": 21,
     "metadata": {},
     "output_type": "execute_result"
    },
    {
     "data": {
      "image/png": "[encoded data removed]",
      "text/plain": [
       "<Figure size 648x360 with 2 Axes>"
      ]
     },
     "metadata": {
      "needs_background": "light"
     },
     "output_type": "display_data"
    }
   ],
   "source": [
    "SIO1.storevar(files_1,'u',My_DICTs[1]['limits'])\n",
    "SIO1.grids['u'][0].plot(figsize=[9,5])"
   ]
  },
  {
   "cell_type": "code",
   "execution_count": 40,
   "id": "f5c22311",
   "metadata": {},
   "outputs": [],
   "source": [
    "def Prepare_id(**kwargs):\n",
    "    Data = \"SELECT * FROM loaderDB\"\n",
    "    i = 0\n",
    "    for key, value in kwargs.items():\n",
    "        if i == 0:\n",
    "            Data += \" WHERE \"\n",
    "        else:\n",
    "            Data += \" AND \"\n",
    "        Data += \"{}='{}'\".format(key, value)\n",
    "        i += 1\n",
    "    Data += \";\"\n",
    "    return c.execute(Data)"
   ]
  },
  {
   "cell_type": "code",
   "execution_count": 49,
   "id": "a58e41e7",
   "metadata": {},
   "outputs": [
    {
     "data": {
      "text/plain": [
       "<sqlite3.Cursor at 0x2a2fbe30420>"
      ]
     },
     "execution_count": 49,
     "metadata": {},
     "output_type": "execute_result"
    }
   ],
   "source": [
    "Prepare_id(t0 = '2019-02-21')"
   ]
  },
  {
   "cell_type": "code",
   "execution_count": 50,
   "id": "1321748a",
   "metadata": {},
   "outputs": [],
   "source": [
    "calis = [dict(row) for row in c.fetchall()]"
   ]
  },
  {
   "cell_type": "code",
   "execution_count": 51,
   "id": "b84f9904",
   "metadata": {},
   "outputs": [
    {
     "data": {
      "text/plain": [
       "[{'name': 'SIO1',\n",
       "  'type': 'MOORING',\n",
       "  'project': 'PISTON',\n",
       "  't0': '2019-02-21',\n",
       "  't1': '2019-02-27',\n",
       "  'lon': 134.7,\n",
       "  'lat': 12.3},\n",
       " {'name': 'SIO3',\n",
       "  'type': 'MOORING',\n",
       "  'project': 'PISTON',\n",
       "  't0': '2019-02-21',\n",
       "  't1': '2019-02-27',\n",
       "  'lon': 134.7,\n",
       "  'lat': 12.3}]"
      ]
     },
     "execution_count": 51,
     "metadata": {},
     "output_type": "execute_result"
    }
   ],
   "source": [
    "calis"
   ]
  }
 ],
 "metadata": {
  "kernelspec": {
   "display_name": "Python 3",
   "language": "python",
   "name": "python3"
  },
  "language_info": {
   "codemirror_mode": {
    "name": "ipython",
    "version": 3
   },
   "file_extension": ".py",
   "mimetype": "text/x-python",
   "name": "python",
   "nbconvert_exporter": "python",
   "pygments_lexer": "ipython3",
   "version": "3.8.8"
  }
 },
 "nbformat": 4,
 "nbformat_minor": 5
}
