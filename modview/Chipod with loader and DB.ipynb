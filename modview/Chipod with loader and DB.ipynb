{
 "cells": [
  {
   "cell_type": "code",
   "execution_count": 1,
   "id": "2ad4bd61",
   "metadata": {},
   "outputs": [
    {
     "data": {
      "text/plain": [
       "[{'name': 'SIO1',\n",
       "  'type': 'MOORING',\n",
       "  'project': 'PISTON',\n",
       "  'COMBINER_ID': 102,\n",
       "  'limits': {'t0': '2018 Sep 15',\n",
       "   't1': '2019 Oct 31',\n",
       "   'lon': None,\n",
       "   'lat': None}}]"
      ]
     },
     "execution_count": 1,
     "metadata": {},
     "output_type": "execute_result"
    }
   ],
   "source": [
    "'''\n",
    "Load and plot chipod, adcp, and thermistor data from moorings. Use modules in modview only.\n",
    "- - - As of september 22 2021, this is using an outdated version of modview.loader\n",
    "- - - - - - most recent development is only stored locally in kuxan-suum.\n",
    "- - - Mooring IDs will be used as example to define the main properties and relations of \n",
    "- - - - - - modview-compatible databases of datasets. \n",
    "--- JA update: use sqlite3 and the database(LoaderDB3.db) to create obj_id and obj_paths\n",
    "'''\n",
    "\n",
    "import numpy as np; import xarray as xr; import pandas as pd;\n",
    "import matplotlib.pyplot as plt; import matplotlib as mpl;\n",
    "import sys; import scipy.io as sio\n",
    "\n",
    "# Figure out how to import local package on Juno (iPad). \n",
    "# For PC or Linux:\n",
    "modview_path = '/mnt/sda1/PhysOc/modview/modview';\n",
    "sys.path.append(modview_path)\n",
    "import loader\n",
    "from DataBase_functions import *\n",
    "\n",
    "# Begin by creating an instance of the assemble class. \n",
    "\n",
    "# Desired limits  = {'t0':'2018 Sep 15','t1':'2019 Oct 31'} are on table OBJ_ID;\n",
    "\n",
    "#sio1_data_dir = '/media/mydrive/SciData/PISTON/Moorings/SIO1/'; \n",
    "sio1_data_dir = '/mnt/sda1/SciData/PISTON/Moorings/SIO1/';\n",
    "\n",
    "\n",
    "####\n",
    "# Old lines (Hard-code)\n",
    "# sio1_adcp_paths = ['SIO1_4021.nc','SIO1_11181.nc'];\n",
    "# sio1_paths = {'chipod':sio1_data_dir+'sio1_chipod.mat','chiflags':sio1_data_dir+'SIO1_chipod_finflag.csv',\n",
    "#              'ADCP':[sio1_data_dir + 'ADCP/' + kk for kk in sio1_adcp_paths],\n",
    "#              'Temperature':sio1_data_dir + 'SIO1_Tgrid.mat'};\n",
    "# sio1_id = {'name':'SIO1','project':'PISTON','type':'Mooring','limits':sio1_limits};\n",
    "####\n",
    "\n",
    "sio1_id = id_maker(t0 = '2018 Sep 15')\n",
    "sio1_id"
   ]
  },
  {
   "cell_type": "code",
   "execution_count": 3,
   "id": "602deec4",
   "metadata": {},
   "outputs": [
    {
     "data": {
      "text/plain": [
       "[{'COMBINER_ID': 102,\n",
       "  'DATA_OBJ': 201,\n",
       "  'Source': 'chipod',\n",
       "  'Filepath': 'sio1_chipod.mat'},\n",
       " {'COMBINER_ID': 102,\n",
       "  'DATA_OBJ': 202,\n",
       "  'Source': 'chiflag',\n",
       "  'Filepath': 'SIO1_chipod_finflag.csv'},\n",
       " {'COMBINER_ID': 102,\n",
       "  'DATA_OBJ': 301,\n",
       "  'Source': 'ADCP',\n",
       "  'Filepath': 'SIO1_4021.nc'},\n",
       " {'COMBINER_ID': 102,\n",
       "  'DATA_OBJ': 302,\n",
       "  'Source': 'ADCP',\n",
       "  'Filepath': 'SIO1_11181.nc'},\n",
       " {'COMBINER_ID': 102,\n",
       "  'DATA_OBJ': 401,\n",
       "  'Source': 'Temperature',\n",
       "  'Filepath': 'SIO1_Tgrid.mat'}]"
      ]
     },
     "execution_count": 3,
     "metadata": {},
     "output_type": "execute_result"
    }
   ],
   "source": [
    "Data = Data_extraction(sio1_id,0)\n",
    "Data"
   ]
  },
  {
   "cell_type": "code",
   "execution_count": 4,
   "id": "c0aa4c86",
   "metadata": {},
   "outputs": [
    {
     "data": {
      "text/plain": [
       "{'chipod': ['/mnt/sda1/SciData/PISTON/Moorings/SIO1/sio1_chipod.mat'],\n",
       " 'chiflag': ['/mnt/sda1/SciData/PISTON/Moorings/SIO1/SIO1_chipod_finflag.csv'],\n",
       " 'ADCP': ['/mnt/sda1/SciData/PISTON/Moorings/SIO1/ADCP/SIO1_4021.nc',\n",
       "  '/mnt/sda1/SciData/PISTON/Moorings/SIO1/ADCP/SIO1_11181.nc'],\n",
       " 'Temperature': ['/mnt/sda1/SciData/PISTON/Moorings/SIO1/SIO1_Tgrid.mat']}"
      ]
     },
     "execution_count": 4,
     "metadata": {},
     "output_type": "execute_result"
    }
   ],
   "source": [
    "sio1_paths = path_maker(Data,sio1_data_dir)\n",
    "sio1_paths"
   ]
  },
  {
   "cell_type": "code",
   "execution_count": 5,
   "id": "80fb7dcc",
   "metadata": {},
   "outputs": [],
   "source": [
    "SIO1 = loader.assemble(sio1_id[0],sio1_paths) ## Tuve que agregar el 0 extra\n",
    "\n",
    "# With the instance created, now use mat tools in loader to load chipod data\n",
    "# replace with loadmat from updated version of loader\n",
    "#SIO1.vars['matfile'] = loader.readmat(SIO1.files['chipod'], ['eps','N2','time','Jq'], structures='none');\n",
    "\n",
    "chi_matfile = sio.loadmat(SIO1.files['chipod']);\n",
    "\n",
    "# Get processing flags \n",
    "chi_flags = pd.read_csv(SIO1.paths['chiflags']); \n",
    "# Then it's all about extracting cells from the variable sio1_chipod in chi_matfile, turning those into pd.dfs\n",
    "\n",
    "\n",
    "# After matfile has been loaded, access SIO1_chipod structure \n",
    "# there you can get "
   ]
  },
  {
   "cell_type": "code",
   "execution_count": null,
   "id": "c3209659",
   "metadata": {},
   "outputs": [],
   "source": []
  }
 ],
 "metadata": {
  "kernelspec": {
   "display_name": "Python 3",
   "language": "python",
   "name": "python3"
  },
  "language_info": {
   "codemirror_mode": {
    "name": "ipython",
    "version": 3
   },
   "file_extension": ".py",
   "mimetype": "text/x-python",
   "name": "python",
   "nbconvert_exporter": "python",
   "pygments_lexer": "ipython3",
   "version": "3.8.8"
  }
 },
 "nbformat": 4,
 "nbformat_minor": 5
}
