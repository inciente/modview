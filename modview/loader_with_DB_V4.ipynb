{
 "cells": [
  {
   "cell_type": "code",
   "execution_count": 1,
   "id": "f689d4b2",
   "metadata": {},
   "outputs": [],
   "source": [
    "import numpy as np; import pandas as pd\n",
    "import xarray as xr; import matplotlib.pyplot as plt;\n",
    "from assemble_class import assemble\n",
    "import sqlite3"
   ]
  },
  {
   "cell_type": "code",
   "execution_count": 2,
   "id": "2645796c",
   "metadata": {},
   "outputs": [],
   "source": [
    "conn = sqlite3.connect('LoaderDB3.db') # connection\n",
    "conn.row_factory = sqlite3.Row\n",
    "c = conn.cursor()"
   ]
  },
  {
   "cell_type": "code",
   "execution_count": 3,
   "id": "69dafd52",
   "metadata": {},
   "outputs": [],
   "source": [
    "def Prepare_id(**kwargs):\n",
    "    Data = \"SELECT * FROM OBJ_ID\"\n",
    "    i = 0\n",
    "    for key, value in kwargs.items():\n",
    "        if i == 0:\n",
    "            Data += \" WHERE \"\n",
    "        else:\n",
    "            Data += \" AND \"\n",
    "        Data += \"{}='{}'\".format(key, value)\n",
    "        i += 1\n",
    "    Data += \";\"\n",
    "    return c.execute(Data)\n",
    "\n",
    "\n",
    "def format_change(DICT):\n",
    "    limits_keys = ['t0','t1','lon','lat']\n",
    "    for n in range(len(DICT)):\n",
    "        DICT[n]['limits'] = {key: DICT[n][key] for key in DICT[n] if key in limits_keys}\n",
    "        for key in limits_keys: del DICT[n][key]"
   ]
  },
  {
   "cell_type": "code",
   "execution_count": 4,
   "id": "7135f58e",
   "metadata": {},
   "outputs": [],
   "source": [
    "def calis():\n",
    "    c.execute"
   ]
  },
  {
   "cell_type": "code",
   "execution_count": 5,
   "id": "c0ccd923",
   "metadata": {},
   "outputs": [
    {
     "data": {
      "text/plain": [
       "<sqlite3.Cursor at 0x1c17760e500>"
      ]
     },
     "execution_count": 5,
     "metadata": {},
     "output_type": "execute_result"
    }
   ],
   "source": [
    "Prepare_id(t0= '2018 Sep 15', name = 'SIO1')"
   ]
  },
  {
   "cell_type": "code",
   "execution_count": 6,
   "id": "41c34784",
   "metadata": {},
   "outputs": [],
   "source": [
    "sio1_id = [dict(row) for row in c.fetchall()] "
   ]
  },
  {
   "cell_type": "code",
   "execution_count": 7,
   "id": "3f9bbdc8",
   "metadata": {},
   "outputs": [
    {
     "data": {
      "text/plain": [
       "[{'name': 'SIO1',\n",
       "  'type': 'MOORING',\n",
       "  'project': 'PISTON',\n",
       "  't0': '2018 Sep 15',\n",
       "  't1': '2019 Oct 31',\n",
       "  'lon': None,\n",
       "  'lat': None,\n",
       "  'COMBINER_ID': 102}]"
      ]
     },
     "execution_count": 7,
     "metadata": {},
     "output_type": "execute_result"
    }
   ],
   "source": [
    "sio1_id"
   ]
  },
  {
   "cell_type": "code",
   "execution_count": 8,
   "id": "1acd85e1",
   "metadata": {},
   "outputs": [],
   "source": [
    "format_change(sio1_id)"
   ]
  },
  {
   "cell_type": "code",
   "execution_count": 9,
   "id": "996a9393",
   "metadata": {},
   "outputs": [
    {
     "data": {
      "text/plain": [
       "{'name': 'SIO1',\n",
       " 'type': 'MOORING',\n",
       " 'project': 'PISTON',\n",
       " 'COMBINER_ID': 102,\n",
       " 'limits': {'t0': '2018 Sep 15',\n",
       "  't1': '2019 Oct 31',\n",
       "  'lon': None,\n",
       "  'lat': None}}"
      ]
     },
     "execution_count": 9,
     "metadata": {},
     "output_type": "execute_result"
    }
   ],
   "source": [
    "sio1_id[0]"
   ]
  },
  {
   "cell_type": "code",
   "execution_count": 10,
   "id": "5066e524",
   "metadata": {},
   "outputs": [],
   "source": [
    "combiner_id = sio1_id[0]['COMBINER_ID']"
   ]
  },
  {
   "cell_type": "code",
   "execution_count": 11,
   "id": "3d027dc7",
   "metadata": {},
   "outputs": [
    {
     "name": "stdout",
     "output_type": "stream",
     "text": [
      "hola 102\n"
     ]
    }
   ],
   "source": [
    "print(\"hola %d\" %combiner_id)"
   ]
  },
  {
   "cell_type": "code",
   "execution_count": 12,
   "id": "03fc2c84",
   "metadata": {},
   "outputs": [],
   "source": [
    "c.execute('SELECT * FROM COMBINER AS c INNER JOIN DATASOURCES as d ON c.Data_obj = d.Data_obj WHERE c.COMBINER_ID = %d' %combiner_id)\n",
    "result  = [dict(row) for row in c.fetchall()] "
   ]
  },
  {
   "cell_type": "code",
   "execution_count": 13,
   "id": "eaf26b44",
   "metadata": {},
   "outputs": [
    {
     "data": {
      "text/plain": [
       "[{'COMBINER_ID': 102,\n",
       "  'DATA_OBJ': 201,\n",
       "  'Source': 'chipod',\n",
       "  'Filepath': 'sio1_chipod.mat'},\n",
       " {'COMBINER_ID': 102,\n",
       "  'DATA_OBJ': 202,\n",
       "  'Source': 'chiflag',\n",
       "  'Filepath': 'SIO1_chipod_finflag.csv'},\n",
       " {'COMBINER_ID': 102,\n",
       "  'DATA_OBJ': 301,\n",
       "  'Source': 'ADCP',\n",
       "  'Filepath': 'SIO1_4021.nc'},\n",
       " {'COMBINER_ID': 102,\n",
       "  'DATA_OBJ': 302,\n",
       "  'Source': 'ADCP',\n",
       "  'Filepath': 'SIO1_11181.nc'},\n",
       " {'COMBINER_ID': 102,\n",
       "  'DATA_OBJ': 401,\n",
       "  'Source': 'Temperature',\n",
       "  'Filepath': 'SIO1_Tgrid.mat'}]"
      ]
     },
     "execution_count": 13,
     "metadata": {},
     "output_type": "execute_result"
    }
   ],
   "source": [
    "result"
   ]
  },
  {
   "cell_type": "code",
   "execution_count": 14,
   "id": "2b8b11ef",
   "metadata": {},
   "outputs": [],
   "source": [
    "c.execute('SELECT * FROM COMBINER AS c INNER JOIN DATASOURCES as d ON c.Data_obj = d.Data_obj WHERE c.COMBINER_ID = %d AND d.Source = \"chipod\"' %combiner_id)\n",
    "result2  = [dict(row) for row in c.fetchall()] "
   ]
  },
  {
   "cell_type": "code",
   "execution_count": 15,
   "id": "34090a3e",
   "metadata": {},
   "outputs": [
    {
     "data": {
      "text/plain": [
       "[{'COMBINER_ID': 102,\n",
       "  'DATA_OBJ': 201,\n",
       "  'Source': 'chipod',\n",
       "  'Filepath': 'sio1_chipod.mat'}]"
      ]
     },
     "execution_count": 15,
     "metadata": {},
     "output_type": "execute_result"
    }
   ],
   "source": [
    "result2"
   ]
  },
  {
   "cell_type": "code",
   "execution_count": 16,
   "id": "cfe7d162",
   "metadata": {},
   "outputs": [
    {
     "data": {
      "text/plain": [
       "{'COMBINER_ID': 102,\n",
       " 'DATA_OBJ': 201,\n",
       " 'Source': 'chipod',\n",
       " 'Filepath': 'sio1_chipod.mat'}"
      ]
     },
     "execution_count": 16,
     "metadata": {},
     "output_type": "execute_result"
    }
   ],
   "source": [
    "result[0]"
   ]
  },
  {
   "cell_type": "code",
   "execution_count": 17,
   "id": "6adc02d3",
   "metadata": {},
   "outputs": [
    {
     "name": "stdout",
     "output_type": "stream",
     "text": [
      "{'COMBINER_ID': 102, 'DATA_OBJ': 201, 'Source': 'chipod', 'Filepath': 'sio1_chipod.mat'}\n",
      "{'COMBINER_ID': 102, 'DATA_OBJ': 202, 'Source': 'chiflag', 'Filepath': 'SIO1_chipod_finflag.csv'}\n",
      "{'COMBINER_ID': 102, 'DATA_OBJ': 301, 'Source': 'ADCP', 'Filepath': 'SIO1_4021.nc'}\n",
      "{'COMBINER_ID': 102, 'DATA_OBJ': 302, 'Source': 'ADCP', 'Filepath': 'SIO1_11181.nc'}\n",
      "{'COMBINER_ID': 102, 'DATA_OBJ': 401, 'Source': 'Temperature', 'Filepath': 'SIO1_Tgrid.mat'}\n"
     ]
    }
   ],
   "source": [
    "for kk in range(len(result)):\n",
    "    print(result[kk])"
   ]
  },
  {
   "cell_type": "code",
   "execution_count": 18,
   "id": "44c5cda6",
   "metadata": {},
   "outputs": [],
   "source": [
    "sio1_paths = {}"
   ]
  },
  {
   "cell_type": "code",
   "execution_count": 19,
   "id": "9be4f5e9",
   "metadata": {},
   "outputs": [
    {
     "data": {
      "text/plain": [
       "{}"
      ]
     },
     "execution_count": 19,
     "metadata": {},
     "output_type": "execute_result"
    }
   ],
   "source": [
    "sio1_paths"
   ]
  },
  {
   "cell_type": "code",
   "execution_count": 20,
   "id": "02e6d3a4",
   "metadata": {},
   "outputs": [],
   "source": [
    "sio1_data_dir = '/mnt/sda1/SciData/PISTON/Moorings/SIO1/'"
   ]
  },
  {
   "cell_type": "code",
   "execution_count": 21,
   "id": "5672d9ea",
   "metadata": {},
   "outputs": [],
   "source": [
    "for kk in range(len(result)):\n",
    "    if result[kk]['Source'] not in sio1_paths:\n",
    "        if result[kk]['Source'] != 'ADCP':\n",
    "            sio1_paths[result[kk]['Source']] = [sio1_data_dir + result[kk]['Filepath']]\n",
    "        else:\n",
    "            sio1_paths[result[kk]['Source']] = [sio1_data_dir + 'ADCP/' + result[kk]['Filepath']]\n",
    "    elif result[kk]['Source'] in sio1_paths:\n",
    "        if result[kk]['Source'] != 'ADCP':\n",
    "            sio1_paths[result[kk]['Source']].append(sio1_data_dir + result[kk]['Filepath'])\n",
    "        else:\n",
    "            sio1_paths[result[kk]['Source']].append(sio1_data_dir + 'ADCP/' + result[kk]['Filepath'])"
   ]
  },
  {
   "cell_type": "code",
   "execution_count": 22,
   "id": "593939ea",
   "metadata": {},
   "outputs": [
    {
     "data": {
      "text/plain": [
       "{'chipod': ['/mnt/sda1/SciData/PISTON/Moorings/SIO1/sio1_chipod.mat'],\n",
       " 'chiflag': ['/mnt/sda1/SciData/PISTON/Moorings/SIO1/SIO1_chipod_finflag.csv'],\n",
       " 'ADCP': ['/mnt/sda1/SciData/PISTON/Moorings/SIO1/ADCP/SIO1_4021.nc',\n",
       "  '/mnt/sda1/SciData/PISTON/Moorings/SIO1/ADCP/SIO1_11181.nc'],\n",
       " 'Temperature': ['/mnt/sda1/SciData/PISTON/Moorings/SIO1/SIO1_Tgrid.mat']}"
      ]
     },
     "execution_count": 22,
     "metadata": {},
     "output_type": "execute_result"
    }
   ],
   "source": [
    "sio1_paths"
   ]
  },
  {
   "cell_type": "code",
   "execution_count": 23,
   "id": "8a862f0e",
   "metadata": {},
   "outputs": [],
   "source": [
    "def path_maker(DataSources, data_dir):\n",
    "    Dir = {}\n",
    "    for kk in range(len(DataSources)):\n",
    "        if DataSources[kk]['Source'] not in Dir:\n",
    "            if DataSources[kk]['Source'] != 'ADCP':\n",
    "                Dir[DataSources[kk]['Source']] = [data_dir + DataSources[kk]['Filepath']]\n",
    "            else:\n",
    "                Dir[DataSources[kk]['Source']] = [data_dir + 'ADCP/' + DataSources[kk]['Filepath']]\n",
    "        elif DataSources[kk]['Source'] in Dir:\n",
    "            if DataSources[kk]['Source'] != 'ADCP':\n",
    "                Dir[DataSources[kk]['Source']].append(data_dir + DataSources[kk]['Filepath'])\n",
    "            else:\n",
    "                Dir[DataSources[kk]['Source']].append(data_dir + 'ADCP/' + DataSources[kk]['Filepath'])\n",
    "    return Dir"
   ]
  },
  {
   "cell_type": "code",
   "execution_count": 24,
   "id": "824e7a2d",
   "metadata": {},
   "outputs": [],
   "source": [
    "sio1_paths2 = path_maker(result,sio1_data_dir)"
   ]
  },
  {
   "cell_type": "code",
   "execution_count": 25,
   "id": "d68ab04d",
   "metadata": {},
   "outputs": [
    {
     "data": {
      "text/plain": [
       "{'chipod': ['/mnt/sda1/SciData/PISTON/Moorings/SIO1/sio1_chipod.mat'],\n",
       " 'chiflag': ['/mnt/sda1/SciData/PISTON/Moorings/SIO1/SIO1_chipod_finflag.csv'],\n",
       " 'ADCP': ['/mnt/sda1/SciData/PISTON/Moorings/SIO1/ADCP/SIO1_4021.nc',\n",
       "  '/mnt/sda1/SciData/PISTON/Moorings/SIO1/ADCP/SIO1_11181.nc'],\n",
       " 'Temperature': ['/mnt/sda1/SciData/PISTON/Moorings/SIO1/SIO1_Tgrid.mat']}"
      ]
     },
     "execution_count": 25,
     "metadata": {},
     "output_type": "execute_result"
    }
   ],
   "source": [
    "sio1_paths2"
   ]
  },
  {
   "cell_type": "code",
   "execution_count": 26,
   "id": "4a776f60",
   "metadata": {},
   "outputs": [],
   "source": [
    "def id_maker(**kwargs):\n",
    "    Prepare_id(**kwargs)\n",
    "    A = [dict(row) for row in c.fetchall()]\n",
    "    format_change(A)\n",
    "    return A"
   ]
  },
  {
   "cell_type": "code",
   "execution_count": 27,
   "id": "91e32bde",
   "metadata": {},
   "outputs": [],
   "source": [
    "def Data_extraction(obj_id, n, **kwargs):\n",
    "    combiner_id = obj_id[n]['COMBINER_ID']\n",
    "    common_str = 'SELECT * FROM COMBINER AS c INNER JOIN DATASOURCES as d ON c.Data_obj = d.Data_obj WHERE c.COMBINER_ID = %d'\n",
    "    i = 1\n",
    "    for key, value in kwargs.items():\n",
    "        common_str += \" AND d.\"\n",
    "        common_str += \"{}='{}'\".format(key, value)\n",
    "        i += 1\n",
    "    common_str += \";\"\n",
    "    c.execute(common_str %combiner_id)\n",
    "    return [dict(row) for row in c.fetchall()] "
   ]
  },
  {
   "cell_type": "code",
   "execution_count": 28,
   "id": "ee641c30",
   "metadata": {},
   "outputs": [
    {
     "data": {
      "text/plain": [
       "[{'COMBINER_ID': 102,\n",
       "  'DATA_OBJ': 301,\n",
       "  'Source': 'ADCP',\n",
       "  'Filepath': 'SIO1_4021.nc'},\n",
       " {'COMBINER_ID': 102,\n",
       "  'DATA_OBJ': 302,\n",
       "  'Source': 'ADCP',\n",
       "  'Filepath': 'SIO1_11181.nc'}]"
      ]
     },
     "execution_count": 28,
     "metadata": {},
     "output_type": "execute_result"
    }
   ],
   "source": [
    "Data_extraction(sio1_id, 0, Source='ADCP')"
   ]
  }
 ],
 "metadata": {
  "kernelspec": {
   "display_name": "Python 3",
   "language": "python",
   "name": "python3"
  },
  "language_info": {
   "codemirror_mode": {
    "name": "ipython",
    "version": 3
   },
   "file_extension": ".py",
   "mimetype": "text/x-python",
   "name": "python",
   "nbconvert_exporter": "python",
   "pygments_lexer": "ipython3",
   "version": "3.8.8"
  }
 },
 "nbformat": 4,
 "nbformat_minor": 5
}
