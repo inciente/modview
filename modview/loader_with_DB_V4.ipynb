{
 "cells": [
  {
   "cell_type": "code",
   "execution_count": 19,
   "id": "f689d4b2",
   "metadata": {},
   "outputs": [],
   "source": [
    "import numpy as np; import pandas as pd\n",
    "import xarray as xr; import matplotlib.pyplot as plt;\n",
    "from assemble_class import assemble\n",
    "import sqlite3"
   ]
  },
  {
   "cell_type": "code",
   "execution_count": 127,
   "id": "2645796c",
   "metadata": {},
   "outputs": [],
   "source": [
    "conn = sqlite3.connect('LoaderDB3.db') # connection\n",
    "conn.row_factory = sqlite3.Row\n",
    "c = conn.cursor()"
   ]
  },
  {
   "cell_type": "code",
   "execution_count": 73,
   "id": "69dafd52",
   "metadata": {},
   "outputs": [],
   "source": [
    "def Prepare_id(**kwargs):\n",
    "    Data = \"SELECT * FROM OBJ_ID\"\n",
    "    i = 0\n",
    "    for key, value in kwargs.items():\n",
    "        if i == 0:\n",
    "            Data += \" WHERE \"\n",
    "        else:\n",
    "            Data += \" AND \"\n",
    "        Data += \"{}='{}'\".format(key, value)\n",
    "        i += 1\n",
    "    Data += \";\"\n",
    "    return c.execute(Data)\n",
    "\n",
    "\n",
    "def format_change(DICT):\n",
    "    limits_keys = ['t0','t1','lon','lat']\n",
    "    for n in range(len(DICT)):\n",
    "        DICT[n]['limits'] = {key: DICT[n][key] for key in DICT[n] if key in limits_keys}\n",
    "        for key in limits_keys: del DICT[n][key]"
   ]
  },
  {
   "cell_type": "code",
   "execution_count": 74,
   "id": "7135f58e",
   "metadata": {},
   "outputs": [],
   "source": [
    "def calis():\n",
    "    c.execute"
   ]
  },
  {
   "cell_type": "code",
   "execution_count": 128,
   "id": "c0ccd923",
   "metadata": {},
   "outputs": [
    {
     "data": {
      "text/plain": [
       "<sqlite3.Cursor at 0x2c8fd7ed8f0>"
      ]
     },
     "execution_count": 128,
     "metadata": {},
     "output_type": "execute_result"
    }
   ],
   "source": [
    "Prepare_id(t0= '2018-09-15', name = 'SIO1')"
   ]
  },
  {
   "cell_type": "code",
   "execution_count": 129,
   "id": "41c34784",
   "metadata": {},
   "outputs": [],
   "source": [
    "sio1_id = [dict(row) for row in c.fetchall()] "
   ]
  },
  {
   "cell_type": "code",
   "execution_count": 130,
   "id": "33686a60",
   "metadata": {},
   "outputs": [
    {
     "data": {
      "text/plain": [
       "[{'name': 'SIO1',\n",
       "  'type': 'MOORING',\n",
       "  'project': 'PISTON',\n",
       "  't0': '2018-09-15',\n",
       "  't1': '2019-10-31',\n",
       "  'lon': None,\n",
       "  'lat': None,\n",
       "  'COMBINER_ID': 102}]"
      ]
     },
     "execution_count": 130,
     "metadata": {},
     "output_type": "execute_result"
    }
   ],
   "source": [
    "sio1_id"
   ]
  },
  {
   "cell_type": "code",
   "execution_count": 131,
   "id": "1acd85e1",
   "metadata": {},
   "outputs": [],
   "source": [
    "format_change(sio1_id)"
   ]
  },
  {
   "cell_type": "code",
   "execution_count": 132,
   "id": "996a9393",
   "metadata": {},
   "outputs": [
    {
     "data": {
      "text/plain": [
       "{'name': 'SIO1',\n",
       " 'type': 'MOORING',\n",
       " 'project': 'PISTON',\n",
       " 'COMBINER_ID': 102,\n",
       " 'limits': {'t0': '2018-09-15', 't1': '2019-10-31', 'lon': None, 'lat': None}}"
      ]
     },
     "execution_count": 132,
     "metadata": {},
     "output_type": "execute_result"
    }
   ],
   "source": [
    "sio1_id[0]"
   ]
  },
  {
   "cell_type": "code",
   "execution_count": 133,
   "id": "a7ff569f",
   "metadata": {},
   "outputs": [],
   "source": [
    "combiner_id = sio1_id[0]['COMBINER_ID']"
   ]
  },
  {
   "cell_type": "code",
   "execution_count": 134,
   "id": "fcc66ab4",
   "metadata": {},
   "outputs": [
    {
     "name": "stdout",
     "output_type": "stream",
     "text": [
      "hola 102\n"
     ]
    }
   ],
   "source": [
    "print(\"hola %d\" %combiner_id)"
   ]
  },
  {
   "cell_type": "code",
   "execution_count": 141,
   "id": "7443e966",
   "metadata": {},
   "outputs": [],
   "source": [
    "c.execute('SELECT * FROM COMBINER AS c INNER JOIN DATASOURCES as d ON c.Data_obj = d.Data_obj WHERE c.COMBINER_ID = %d' %combiner_id)\n",
    "result  = [dict(row) for row in c.fetchall()] "
   ]
  },
  {
   "cell_type": "code",
   "execution_count": 142,
   "id": "c1074868",
   "metadata": {},
   "outputs": [
    {
     "data": {
      "text/plain": [
       "[{'COMBINER_ID': 102,\n",
       "  'DATA_OBJ': 201,\n",
       "  'Source': 'chipod',\n",
       "  'Filepath': 'sio1_chipod.mat'},\n",
       " {'COMBINER_ID': 102,\n",
       "  'DATA_OBJ': 202,\n",
       "  'Source': 'chiflag',\n",
       "  'Filepath': 'SIO1_chipod_finflag.csv'},\n",
       " {'COMBINER_ID': 102,\n",
       "  'DATA_OBJ': 301,\n",
       "  'Source': 'ADCP',\n",
       "  'Filepath': 'SIO1_4021.nc'},\n",
       " {'COMBINER_ID': 102,\n",
       "  'DATA_OBJ': 302,\n",
       "  'Source': 'ADCP',\n",
       "  'Filepath': 'SIO1_11181.nc'}]"
      ]
     },
     "execution_count": 142,
     "metadata": {},
     "output_type": "execute_result"
    }
   ],
   "source": [
    "result"
   ]
  },
  {
   "cell_type": "code",
   "execution_count": 147,
   "id": "560e8e38",
   "metadata": {},
   "outputs": [],
   "source": [
    "c.execute('SELECT * FROM COMBINER AS c INNER JOIN DATASOURCES as d ON c.Data_obj = d.Data_obj WHERE c.COMBINER_ID = %d AND d.Source = \"chipod\"' %combiner_id)\n",
    "result2  = [dict(row) for row in c.fetchall()] "
   ]
  },
  {
   "cell_type": "code",
   "execution_count": 148,
   "id": "1acf42b6",
   "metadata": {},
   "outputs": [
    {
     "data": {
      "text/plain": [
       "[{'COMBINER_ID': 102,\n",
       "  'DATA_OBJ': 201,\n",
       "  'Source': 'chipod',\n",
       "  'Filepath': 'sio1_chipod.mat'}]"
      ]
     },
     "execution_count": 148,
     "metadata": {},
     "output_type": "execute_result"
    }
   ],
   "source": [
    "result2"
   ]
  },
  {
   "cell_type": "code",
   "execution_count": 152,
   "id": "140ee08f",
   "metadata": {},
   "outputs": [
    {
     "data": {
      "text/plain": [
       "{'COMBINER_ID': 102,\n",
       " 'DATA_OBJ': 201,\n",
       " 'Source': 'chipod',\n",
       " 'Filepath': 'sio1_chipod.mat'}"
      ]
     },
     "execution_count": 152,
     "metadata": {},
     "output_type": "execute_result"
    }
   ],
   "source": [
    "result[0]"
   ]
  },
  {
   "cell_type": "code",
   "execution_count": 158,
   "id": "4ec7aa46",
   "metadata": {},
   "outputs": [
    {
     "name": "stdout",
     "output_type": "stream",
     "text": [
      "{'COMBINER_ID': 102, 'DATA_OBJ': 201, 'Source': 'chipod', 'Filepath': 'sio1_chipod.mat'}\n",
      "{'COMBINER_ID': 102, 'DATA_OBJ': 202, 'Source': 'chiflag', 'Filepath': 'SIO1_chipod_finflag.csv'}\n",
      "{'COMBINER_ID': 102, 'DATA_OBJ': 301, 'Source': 'ADCP', 'Filepath': 'SIO1_4021.nc'}\n",
      "{'COMBINER_ID': 102, 'DATA_OBJ': 302, 'Source': 'ADCP', 'Filepath': 'SIO1_11181.nc'}\n"
     ]
    }
   ],
   "source": [
    "for kk in range(len(result)):\n",
    "    print(result[kk])"
   ]
  },
  {
   "cell_type": "code",
   "execution_count": 171,
   "id": "fed8a3b2",
   "metadata": {},
   "outputs": [],
   "source": [
    "sio1_paths = {}"
   ]
  },
  {
   "cell_type": "code",
   "execution_count": 163,
   "id": "c2626af0",
   "metadata": {},
   "outputs": [],
   "source": [
    "sio1_paths[result[0]['Source']] = result[0]['Filepath']"
   ]
  },
  {
   "cell_type": "code",
   "execution_count": 179,
   "id": "5f94f7f6",
   "metadata": {},
   "outputs": [
    {
     "data": {
      "text/plain": [
       "{'chipod': '/mnt/sda1/SciData/PISTON/Moorings/SIO1/sio1_chipod.mat',\n",
       " 'chiflag': '/mnt/sda1/SciData/PISTON/Moorings/SIO1/SIO1_chipod_finflag.csv',\n",
       " 'ADCP': ['/mnt/sda1/SciData/PISTON/Moorings/SIO1/ADC/SIO1_11181.nc']}"
      ]
     },
     "execution_count": 179,
     "metadata": {},
     "output_type": "execute_result"
    }
   ],
   "source": [
    "sio1_paths"
   ]
  },
  {
   "cell_type": "code",
   "execution_count": 165,
   "id": "36aad47a",
   "metadata": {},
   "outputs": [],
   "source": [
    "sio1_data_dir = '/mnt/sda1/SciData/PISTON/Moorings/SIO1/'"
   ]
  },
  {
   "cell_type": "code",
   "execution_count": 166,
   "id": "5306a30b",
   "metadata": {},
   "outputs": [],
   "source": [
    "sio1_paths[result[0]['Source']] = sio1_data_dir + result[0]['Filepath']"
   ]
  },
  {
   "cell_type": "code",
   "execution_count": 178,
   "id": "63727e8a",
   "metadata": {},
   "outputs": [],
   "source": [
    "for kk in range(len(result)):\n",
    "    if result[kk]['Source'] != 'ADCP':\n",
    "        sio1_paths[result[kk]['Source']] = sio1_data_dir + result[kk]['Filepath']\n",
    "    else:\n",
    "        sio1_paths[result[kk]['Source']] = [sio1_data_dir + 'ADC/' + result[kk]['Filepath']]"
   ]
  }
 ],
 "metadata": {
  "kernelspec": {
   "display_name": "Python 3",
   "language": "python",
   "name": "python3"
  },
  "language_info": {
   "codemirror_mode": {
    "name": "ipython",
    "version": 3
   },
   "file_extension": ".py",
   "mimetype": "text/x-python",
   "name": "python",
   "nbconvert_exporter": "python",
   "pygments_lexer": "ipython3",
   "version": "3.8.8"
  }
 },
 "nbformat": 4,
 "nbformat_minor": 5
}
