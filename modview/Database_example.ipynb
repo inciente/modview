{
 "cells": [
  {
   "cell_type": "code",
   "execution_count": 2,
   "id": "ef34fd37",
   "metadata": {},
   "outputs": [],
   "source": [
    "import sqlite3\n",
    "import time\n",
    "import datetime\n",
    "import random\n",
    "import matplotlib.pyplot as plt\n",
    "import matplotlib.dates as mdates\n",
    "from matplotlib import style\n",
    "style.use('fivethirtyeight')\n",
    "\n",
    "plt.rcParams['figure.figsize'] = [11, 8]\n",
    "%matplotlib inline"
   ]
  },
  {
   "cell_type": "code",
   "execution_count": 2,
   "id": "34d6fb85",
   "metadata": {},
   "outputs": [],
   "source": [
    "conn = sqlite3.connect('tutorial.db') # connection\n",
    "c = conn.cursor() #cursos: do things"
   ]
  },
  {
   "cell_type": "code",
   "execution_count": 3,
   "id": "ed403539",
   "metadata": {},
   "outputs": [],
   "source": [
    "def create_table():\n",
    "    c.execute('CREATE TABLE IF NOT EXISTS StuffToPlot(unix REAL, datestamp TEXT, keyword TEXT, value REAL)')"
   ]
  },
  {
   "cell_type": "code",
   "execution_count": 8,
   "id": "b5521a88",
   "metadata": {},
   "outputs": [],
   "source": [
    "def data_entry():\n",
    "    c.execute(\"INSERT INTO StuffToPlot VALUES(145123543,'2016-01-01','Python',12)\")\n",
    "    conn.commit() #save the database"
   ]
  },
  {
   "cell_type": "code",
   "execution_count": 20,
   "id": "2167d801",
   "metadata": {},
   "outputs": [],
   "source": [
    "def dynamic_date_entry():\n",
    "    unix = time.time()\n",
    "    date = str(datetime.datetime.fromtimestamp(unix).strftime('%Y-%m-%d %H:%M%S'))\n",
    "    keyword = 'Python'\n",
    "    values = random.randrange(0,10)\n",
    "    c.execute(\"INSERT INTO StuffToPlot (unix, datestamp, keyword, value)  VALUES (?, ?, ?, ?)\",\n",
    "             (unix, date, keyword, values))\n",
    "    conn.commit()"
   ]
  },
  {
   "cell_type": "code",
   "execution_count": 43,
   "id": "74c35407",
   "metadata": {},
   "outputs": [],
   "source": [
    "def read_from_db():\n",
    "    c.execute('SELECT * from StuffToPlot')\n",
    "#     data = c.fetchall() creates a list made out of tuples of every row of the table\n",
    "#     print(data)\n",
    "    for row in c.fetchall():\n",
    "        print(row)"
   ]
  },
  {
   "cell_type": "code",
   "execution_count": 55,
   "id": "5464aea9",
   "metadata": {},
   "outputs": [],
   "source": [
    "def select_read():\n",
    "    c.execute('SELECT * from StuffToPlot WHERE value=3 AND keyword=\"Python\"')\n",
    "    for row in c.fetchall():\n",
    "        print(row)"
   ]
  },
  {
   "cell_type": "code",
   "execution_count": 77,
   "id": "99f72f84",
   "metadata": {},
   "outputs": [],
   "source": [
    "def graph_data():\n",
    "    c.execute('SELECT unix, value FROM StuffToPlot')\n",
    "    dates = []\n",
    "    values = []\n",
    "    for row in c.fetchall():\n",
    "        dates.append(datetime.datetime.fromtimestamp(row[0]))\n",
    "        values.append(row[1])\n",
    "    plt.plot_date(dates, values,'-')\n",
    "    plt.show()"
   ]
  },
  {
   "cell_type": "code",
   "execution_count": 22,
   "id": "8842c915",
   "metadata": {},
   "outputs": [],
   "source": [
    "create_table()\n",
    "# data_entry()"
   ]
  },
  {
   "cell_type": "code",
   "execution_count": 26,
   "id": "3e39dc6e",
   "metadata": {},
   "outputs": [],
   "source": [
    "for i in range(10):\n",
    "    dynamic_date_entry()\n",
    "    time.sleep(1)"
   ]
  },
  {
   "cell_type": "code",
   "execution_count": 44,
   "id": "cd4ac2ac",
   "metadata": {},
   "outputs": [
    {
     "name": "stdout",
     "output_type": "stream",
     "text": [
      "(1633584216.3482227, '2021-10-07 00:2336', 'Python', 4.0)\n",
      "(1633584217.4522152, '2021-10-07 00:2337', 'Python', 7.0)\n",
      "(1633584218.5486805, '2021-10-07 00:2338', 'Python', 3.0)\n",
      "(1633584219.6835847, '2021-10-07 00:2339', 'Python', 3.0)\n",
      "(1633584220.845475, '2021-10-07 00:2340', 'Python', 7.0)\n",
      "(1633584222.0281522, '2021-10-07 00:2342', 'Python', 7.0)\n",
      "(1633584223.1792588, '2021-10-07 00:2343', 'Python', 2.0)\n",
      "(1633584224.2966287, '2021-10-07 00:2344', 'Python', 5.0)\n",
      "(1633584225.4160879, '2021-10-07 00:2345', 'Python', 3.0)\n",
      "(1633584226.515823, '2021-10-07 00:2346', 'Python', 8.0)\n",
      "(1633584273.923321, '2021-10-07 00:2433', 'Python', 8.0)\n",
      "(1633584275.0617647, '2021-10-07 00:2435', 'Python', 4.0)\n",
      "(1633584276.1614766, '2021-10-07 00:2436', 'Python', 2.0)\n",
      "(1633584277.262077, '2021-10-07 00:2437', 'Python', 7.0)\n",
      "(1633584278.378174, '2021-10-07 00:2438', 'Python', 7.0)\n",
      "(1633584279.497359, '2021-10-07 00:2439', 'Python', 3.0)\n",
      "(1633584280.6295853, '2021-10-07 00:2440', 'Python', 4.0)\n",
      "(1633584281.745425, '2021-10-07 00:2441', 'Python', 0.0)\n",
      "(1633584282.8759484, '2021-10-07 00:2442', 'Python', 6.0)\n",
      "(1633584283.9951584, '2021-10-07 00:2443', 'Python', 4.0)\n",
      "(1633584287.6428561, '2021-10-07 00:2447', 'Python', 3.0)\n",
      "(1633584288.744971, '2021-10-07 00:2448', 'Python', 6.0)\n",
      "(1633584289.877532, '2021-10-07 00:2449', 'Python', 4.0)\n",
      "(1633584291.024171, '2021-10-07 00:2451', 'Python', 5.0)\n",
      "(1633584292.128161, '2021-10-07 00:2452', 'Python', 2.0)\n",
      "(1633584293.277389, '2021-10-07 00:2453', 'Python', 5.0)\n",
      "(1633584294.4254189, '2021-10-07 00:2454', 'Python', 4.0)\n",
      "(1633584295.5624156, '2021-10-07 00:2455', 'Python', 2.0)\n",
      "(1633584296.68205, '2021-10-07 00:2456', 'Python', 1.0)\n",
      "(1633584297.8012223, '2021-10-07 00:2457', 'Python', 7.0)\n",
      "(1633584300.9182584, '2021-10-07 00:2500', 'Python', 9.0)\n",
      "(1633584302.0632865, '2021-10-07 00:2502', 'Python', 4.0)\n",
      "(1633584303.2124262, '2021-10-07 00:2503', 'Python', 3.0)\n",
      "(1633584304.3453555, '2021-10-07 00:2504', 'Python', 4.0)\n",
      "(1633584305.4812121, '2021-10-07 00:2505', 'Python', 7.0)\n",
      "(1633584306.6117702, '2021-10-07 00:2506', 'Python', 3.0)\n",
      "(1633584307.7287626, '2021-10-07 00:2507', 'Python', 2.0)\n",
      "(1633584308.8248398, '2021-10-07 00:2508', 'Python', 2.0)\n",
      "(1633584309.927569, '2021-10-07 00:2509', 'Python', 3.0)\n",
      "(1633584311.0778573, '2021-10-07 00:2511', 'Python', 6.0)\n"
     ]
    }
   ],
   "source": [
    "read_from_db()"
   ]
  },
  {
   "cell_type": "code",
   "execution_count": 56,
   "id": "11cfd5dd",
   "metadata": {},
   "outputs": [
    {
     "name": "stdout",
     "output_type": "stream",
     "text": [
      "(1633584218.5486805, '2021-10-07 00:2338', 'Python', 3.0)\n",
      "(1633584219.6835847, '2021-10-07 00:2339', 'Python', 3.0)\n",
      "(1633584225.4160879, '2021-10-07 00:2345', 'Python', 3.0)\n",
      "(1633584279.497359, '2021-10-07 00:2439', 'Python', 3.0)\n",
      "(1633584287.6428561, '2021-10-07 00:2447', 'Python', 3.0)\n",
      "(1633584303.2124262, '2021-10-07 00:2503', 'Python', 3.0)\n",
      "(1633584306.6117702, '2021-10-07 00:2506', 'Python', 3.0)\n",
      "(1633584309.927569, '2021-10-07 00:2509', 'Python', 3.0)\n"
     ]
    }
   ],
   "source": [
    "select_read()"
   ]
  },
  {
   "cell_type": "code",
   "execution_count": 82,
   "id": "29bad788",
   "metadata": {},
   "outputs": [
    {
     "data": {
      "image/png": "[encoded data removed]",
      "text/plain": [
       "<Figure size 432x288 with 1 Axes>"
      ]
     },
     "metadata": {
      "needs_background": "light"
     },
     "output_type": "display_data"
    }
   ],
   "source": [
    "graph_data()"
   ]
  },
  {
   "cell_type": "code",
   "execution_count": 84,
   "id": "7905f9b1",
   "metadata": {},
   "outputs": [
    {
     "ename": "ValueError",
     "evalue": "dictionary update sequence element #0 has length 4; 2 is required",
     "output_type": "error",
     "traceback": [
      "\u001b[1;31m---------------------------------------------------------------------------\u001b[0m",
      "\u001b[1;31mValueError\u001b[0m                                Traceback (most recent call last)",
      "\u001b[1;32m<ipython-input-84-fe18805034c3>\u001b[0m in \u001b[0;36m<module>\u001b[1;34m\u001b[0m\n\u001b[1;32m----> 1\u001b[1;33m \u001b[0mdict\u001b[0m\u001b[1;33m(\u001b[0m\u001b[0mdata\u001b[0m\u001b[1;33m)\u001b[0m\u001b[1;33m\u001b[0m\u001b[1;33m\u001b[0m\u001b[0m\n\u001b[0m",
      "\u001b[1;31mValueError\u001b[0m: dictionary update sequence element #0 has length 4; 2 is required"
     ]
    }
   ],
   "source": [
    "dict(data)"
   ]
  },
  {
   "cell_type": "code",
   "execution_count": 19,
   "id": "8b44afc3",
   "metadata": {},
   "outputs": [],
   "source": [
    "c.close()\n",
    "conn.close()"
   ]
  },
  {
   "cell_type": "code",
   "execution_count": 3,
   "id": "c4fa9b73",
   "metadata": {},
   "outputs": [],
   "source": [
    "conn = sqlite3.connect('LoaderDB.db') # connection\n",
    "conn.row_factory = sqlite3.Row\n",
    "c = conn.cursor()"
   ]
  },
  {
   "cell_type": "code",
   "execution_count": 28,
   "id": "bbba1553",
   "metadata": {},
   "outputs": [],
   "source": [
    "def select_read():\n",
    "    c.execute('SELECT * from (LoaderDB, FileNames) WHERE t0 = \"2019-02-01\"')"
   ]
  },
  {
   "cell_type": "code",
   "execution_count": 29,
   "id": "b10a9dd9",
   "metadata": {},
   "outputs": [],
   "source": [
    "select_read()\n",
    "My_DICTs = [dict(row) for row in c.fetchall()]"
   ]
  },
  {
   "cell_type": "code",
   "execution_count": 30,
   "id": "d19ea4f2",
   "metadata": {},
   "outputs": [
    {
     "data": {
      "text/plain": [
       "[{'name': 'SIO1',\n",
       "  'type': 'MOORING',\n",
       "  'project': 'PISTON',\n",
       "  't0': '2019-02-01',\n",
       "  't1': '2019-02-07',\n",
       "  'lon': 134.7,\n",
       "  'lat': 12.3,\n",
       "  'filename': 'SIO1_3160.nc'},\n",
       " {'name': 'SIO3',\n",
       "  'type': 'MOORING',\n",
       "  'project': 'PISTON',\n",
       "  't0': '2019-02-01',\n",
       "  't1': '2019-02-07',\n",
       "  'lon': 134.7,\n",
       "  'lat': 12.3,\n",
       "  'filename': 'SIO1_3160.nc'},\n",
       " {'name': 'SIO1',\n",
       "  'type': 'MOORING',\n",
       "  'project': 'PISTON',\n",
       "  't0': '2019-02-01',\n",
       "  't1': '2019-02-07',\n",
       "  'lon': 134.7,\n",
       "  'lat': 12.3,\n",
       "  'filename': 'SIO1_4021.nc'},\n",
       " {'name': 'SIO3',\n",
       "  'type': 'MOORING',\n",
       "  'project': 'PISTON',\n",
       "  't0': '2019-02-01',\n",
       "  't1': '2019-02-07',\n",
       "  'lon': 134.7,\n",
       "  'lat': 12.3,\n",
       "  'filename': 'SIO1_4021.nc'},\n",
       " {'name': 'SIO1',\n",
       "  'type': 'MOORING',\n",
       "  'project': 'PISTON',\n",
       "  't0': '2019-02-01',\n",
       "  't1': '2019-02-07',\n",
       "  'lon': 134.7,\n",
       "  'lat': 12.3,\n",
       "  'filename': 'SIO1_11181.nc'},\n",
       " {'name': 'SIO3',\n",
       "  'type': 'MOORING',\n",
       "  'project': 'PISTON',\n",
       "  't0': '2019-02-01',\n",
       "  't1': '2019-02-07',\n",
       "  'lon': 134.7,\n",
       "  'lat': 12.3,\n",
       "  'filename': 'SIO1_11181.nc'},\n",
       " {'name': 'SIO1',\n",
       "  'type': 'MOORING',\n",
       "  'project': 'PISTON',\n",
       "  't0': '2019-02-01',\n",
       "  't1': '2019-02-07',\n",
       "  'lon': 134.7,\n",
       "  'lat': 12.3,\n",
       "  'filename': 'SIO1_3588.NC'},\n",
       " {'name': 'SIO3',\n",
       "  'type': 'MOORING',\n",
       "  'project': 'PISTON',\n",
       "  't0': '2019-02-01',\n",
       "  't1': '2019-02-07',\n",
       "  'lon': 134.7,\n",
       "  'lat': 12.3,\n",
       "  'filename': 'SIO1_3588.NC'}]"
      ]
     },
     "execution_count": 30,
     "metadata": {},
     "output_type": "execute_result"
    }
   ],
   "source": [
    "My_DICTs"
   ]
  }
 ],
 "metadata": {
  "kernelspec": {
   "display_name": "Python 3",
   "language": "python",
   "name": "python3"
  },
  "language_info": {
   "codemirror_mode": {
    "name": "ipython",
    "version": 3
   },
   "file_extension": ".py",
   "mimetype": "text/x-python",
   "name": "python",
   "nbconvert_exporter": "python",
   "pygments_lexer": "ipython3",
   "version": "3.8.8"
  }
 },
 "nbformat": 4,
 "nbformat_minor": 5
}
