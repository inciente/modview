{
 "cells": [
  {
   "cell_type": "code",
   "execution_count": 46,
   "id": "66f94b0a",
   "metadata": {},
   "outputs": [],
   "source": [
    "import sqlite3\n",
    "conn = sqlite3.connect('LoaderDB2.db') # connection to DB or create if not exist\n",
    "c = conn.cursor() #cursor: do things"
   ]
  },
  {
   "cell_type": "code",
   "execution_count": 28,
   "id": "e3f55d87",
   "metadata": {},
   "outputs": [],
   "source": [
    "n =25 # maximum colums \n",
    "obj_str=\"\"\n",
    "for i in range(1,n):\n",
    "    obj_str += \"DATA_OBJ\" + \"%d\" %i + \" INTEGER, \"\n",
    "obj_str += \"DATA_OBJ\" + \"%d\" %n + \" INTEGER\""
   ]
  },
  {
   "cell_type": "code",
   "execution_count": 33,
   "id": "613ff994",
   "metadata": {},
   "outputs": [
    {
     "data": {
      "text/plain": [
       "<sqlite3.Cursor at 0x1d40193e2d0>"
      ]
     },
     "execution_count": 33,
     "metadata": {},
     "output_type": "execute_result"
    }
   ],
   "source": [
    "c.execute('CREATE TABLE IF NOT EXISTS OBJ_ID(name TEXT, type TEXT, project TEXT, t0 TEXT, t1 TEXT, lon REAL, lat REAL, COMBINER_ID INTEGER)')\n",
    "c.execute('CREATE TABLE IF NOT EXISTS COMBINER(COMBINER_ID INTEGER,' + obj_str + ' )')\n",
    "c.execute('CREATE TABLE IF NOT EXISTS DATASOURCES(DATA_ID INTEGER, Source TEXT, Filepath TEXT)')"
   ]
  },
  {
   "cell_type": "code",
   "execution_count": 87,
   "id": "7e4b9388",
   "metadata": {},
   "outputs": [],
   "source": [
    "c.execute(\"INSERT INTO COMBINER (COMBINER_ID, DATA_OBJ1, DATA_OBJ2, DATA_OBJ3, DATA_OBJ5) VALUES (101, 301,302,303,305)\")\n",
    "conn.commit() #save the database"
   ]
  },
  {
   "cell_type": "code",
   "execution_count": 88,
   "id": "eafd7ca6",
   "metadata": {},
   "outputs": [],
   "source": [
    "c.execute(\"INSERT INTO DATASOURCES (DATA_ID, Source, Filepath) VALUES (301,'ADCP', 'D:\\Documentos\\CUCEI LIFI\\Practicas Profesionales\\modview\\Archivos_Prueba\\SIO1')\")\n",
    "conn.commit()"
   ]
  },
  {
   "cell_type": "code",
   "execution_count": 44,
   "id": "cd9b09b8",
   "metadata": {},
   "outputs": [],
   "source": [
    "c.execute(\"SELECT * FROM OBJ_ID NATURAL JOIN COMBINER\")\n",
    "result = c.fetchall()"
   ]
  },
  {
   "cell_type": "code",
   "execution_count": 45,
   "id": "6f712643",
   "metadata": {},
   "outputs": [
    {
     "data": {
      "text/plain": [
       "[('SIO1',\n",
       "  'MOORING',\n",
       "  'PISTON',\n",
       "  '2019-02-01',\n",
       "  '2019-02-07',\n",
       "  134.7,\n",
       "  12.3,\n",
       "  101,\n",
       "  301,\n",
       "  302,\n",
       "  303,\n",
       "  None,\n",
       "  305,\n",
       "  None,\n",
       "  None,\n",
       "  None,\n",
       "  None,\n",
       "  None,\n",
       "  None,\n",
       "  None,\n",
       "  None,\n",
       "  None,\n",
       "  None,\n",
       "  None,\n",
       "  None,\n",
       "  None,\n",
       "  None,\n",
       "  None,\n",
       "  None,\n",
       "  None,\n",
       "  None,\n",
       "  None,\n",
       "  None),\n",
       " ('SIO1',\n",
       "  'MOORING',\n",
       "  'PISTON',\n",
       "  '2018-09-15',\n",
       "  '2019-10-31',\n",
       "  None,\n",
       "  None,\n",
       "  102,\n",
       "  201,\n",
       "  202,\n",
       "  301,\n",
       "  302,\n",
       "  None,\n",
       "  None,\n",
       "  None,\n",
       "  None,\n",
       "  None,\n",
       "  None,\n",
       "  None,\n",
       "  None,\n",
       "  None,\n",
       "  None,\n",
       "  None,\n",
       "  None,\n",
       "  None,\n",
       "  None,\n",
       "  None,\n",
       "  None,\n",
       "  None,\n",
       "  None,\n",
       "  None,\n",
       "  None,\n",
       "  None)]"
      ]
     },
     "execution_count": 45,
     "metadata": {},
     "output_type": "execute_result"
    }
   ],
   "source": [
    "result"
   ]
  },
  {
   "cell_type": "code",
   "execution_count": 7,
   "id": "7d9a936f",
   "metadata": {},
   "outputs": [],
   "source": [
    "c.execute(\"SELECT * FROM COMBINER INNER JOIN DATASOURCES ON COMBINER.DATA_OBJ1 = DATASOURCES.DATA_ID\")\n",
    "result2 = c.fetchall()"
   ]
  },
  {
   "cell_type": "code",
   "execution_count": 31,
   "id": "6e5f9109",
   "metadata": {},
   "outputs": [],
   "source": [
    "c.execute(\"SELECT * FROM  Combiner AS c JOIN Datasources AS d ON c.Data_obj1 = d.Data_id\")\n",
    "result2 = c.fetchall()"
   ]
  },
  {
   "cell_type": "code",
   "execution_count": 32,
   "id": "bee843af",
   "metadata": {},
   "outputs": [
    {
     "data": {
      "text/plain": [
       "[(101,\n",
       "  301,\n",
       "  302,\n",
       "  303,\n",
       "  None,\n",
       "  305,\n",
       "  None,\n",
       "  None,\n",
       "  None,\n",
       "  None,\n",
       "  None,\n",
       "  None,\n",
       "  None,\n",
       "  None,\n",
       "  None,\n",
       "  None,\n",
       "  None,\n",
       "  None,\n",
       "  None,\n",
       "  None,\n",
       "  None,\n",
       "  None,\n",
       "  None,\n",
       "  None,\n",
       "  None,\n",
       "  None,\n",
       "  301,\n",
       "  'ADCP',\n",
       "  'D:\\\\Documentos\\\\CUCEI LIFI\\\\Practicas Profesionales\\\\modview\\\\Archivos_Prueba\\\\SIO1')]"
      ]
     },
     "execution_count": 32,
     "metadata": {},
     "output_type": "execute_result"
    }
   ],
   "source": [
    "result2"
   ]
  },
  {
   "cell_type": "code",
   "execution_count": 21,
   "id": "819a3929",
   "metadata": {},
   "outputs": [],
   "source": []
  },
  {
   "cell_type": "code",
   "execution_count": 38,
   "id": "3a45bee9",
   "metadata": {},
   "outputs": [
    {
     "data": {
      "text/plain": [
       "[('SIO1',\n",
       "  'MOORING',\n",
       "  'PISTON',\n",
       "  '2019-02-01',\n",
       "  '2019-02-07',\n",
       "  134.7,\n",
       "  12.3,\n",
       "  101,\n",
       "  301,\n",
       "  302,\n",
       "  303,\n",
       "  None,\n",
       "  305,\n",
       "  None,\n",
       "  None,\n",
       "  None,\n",
       "  None,\n",
       "  None,\n",
       "  None,\n",
       "  None,\n",
       "  None,\n",
       "  None,\n",
       "  None,\n",
       "  None,\n",
       "  None,\n",
       "  None,\n",
       "  None,\n",
       "  None,\n",
       "  None,\n",
       "  None,\n",
       "  None,\n",
       "  None,\n",
       "  None),\n",
       " ('SIO1',\n",
       "  'MOORING',\n",
       "  'PISTON',\n",
       "  '2018-09-15',\n",
       "  '2019-10-31',\n",
       "  None,\n",
       "  None,\n",
       "  102,\n",
       "  201,\n",
       "  202,\n",
       "  301,\n",
       "  302,\n",
       "  None,\n",
       "  None,\n",
       "  None,\n",
       "  None,\n",
       "  None,\n",
       "  None,\n",
       "  None,\n",
       "  None,\n",
       "  None,\n",
       "  None,\n",
       "  None,\n",
       "  None,\n",
       "  None,\n",
       "  None,\n",
       "  None,\n",
       "  None,\n",
       "  None,\n",
       "  None,\n",
       "  None,\n",
       "  None,\n",
       "  None)]"
      ]
     },
     "execution_count": 38,
     "metadata": {},
     "output_type": "execute_result"
    }
   ],
   "source": [
    "result"
   ]
  },
  {
   "cell_type": "code",
   "execution_count": 20,
   "id": "0dfecfbc",
   "metadata": {},
   "outputs": [
    {
     "data": {
      "text/plain": [
       "int"
      ]
     },
     "execution_count": 20,
     "metadata": {},
     "output_type": "execute_result"
    }
   ],
   "source": [
    "type(A[1][0])"
   ]
  },
  {
   "cell_type": "code",
   "execution_count": 12,
   "id": "c5406ee5",
   "metadata": {},
   "outputs": [
    {
     "data": {
      "text/plain": [
       "\"SELECT * FROM loaderDB WHERE t0='2019-02-01'\""
      ]
     },
     "execution_count": 12,
     "metadata": {},
     "output_type": "execute_result"
    }
   ],
   "source": [
    "Data = \"SELECT * FROM loaderDB\"\n",
    "Data += \" WHERE \"\n",
    "key, value = 't0', \"2019-02-01\"\n",
    "Data += \"{}='{}'\".format(key, value)\n",
    "Data"
   ]
  }
 ],
 "metadata": {
  "kernelspec": {
   "display_name": "Python 3",
   "language": "python",
   "name": "python3"
  },
  "language_info": {
   "codemirror_mode": {
    "name": "ipython",
    "version": 3
   },
   "file_extension": ".py",
   "mimetype": "text/x-python",
   "name": "python",
   "nbconvert_exporter": "python",
   "pygments_lexer": "ipython3",
   "version": "3.8.8"
  }
 },
 "nbformat": 4,
 "nbformat_minor": 5
}
