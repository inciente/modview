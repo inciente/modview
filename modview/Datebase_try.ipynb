{
 "cells": [
  {
   "cell_type": "code",
   "execution_count": 1,
   "id": "787ca841",
   "metadata": {},
   "outputs": [],
   "source": [
    "import sqlite3\n",
    "conn = sqlite3.connect('LoaderDB.db') # connection\n",
    "c = conn.cursor() #cursos: do things"
   ]
  },
  {
   "cell_type": "code",
   "execution_count": 3,
   "id": "a9aad5b5",
   "metadata": {},
   "outputs": [
    {
     "data": {
      "text/plain": [
       "<sqlite3.Cursor at 0x126675ad2d0>"
      ]
     },
     "execution_count": 3,
     "metadata": {},
     "output_type": "execute_result"
    }
   ],
   "source": [
    " c.execute('CREATE TABLE IF NOT EXISTS FileNames(name TEXT, type TEXT, project TEXT, filename TEXT)')"
   ]
  },
  {
   "cell_type": "code",
   "execution_count": 2,
   "id": "2980f1b1",
   "metadata": {},
   "outputs": [],
   "source": [
    "def create_table():\n",
    "    c.execute('CREATE TABLE IF NOT EXISTS LoaderDB(name TEXT, type TEXT, project TEXT, t0 TEXT, t1 TEXT, lon REAL, lat REAL)')"
   ]
  },
  {
   "cell_type": "code",
   "execution_count": 17,
   "id": "a2788645",
   "metadata": {},
   "outputs": [],
   "source": [
    "limits = {'t0':'2019-02-01','t1':'2019-02-07','lon':[134.7],'lat':[12.3]};"
   ]
  },
  {
   "cell_type": "code",
   "execution_count": 11,
   "id": "08111bc9",
   "metadata": {},
   "outputs": [],
   "source": [
    "def data_entry(NAME, limits):\n",
    "    name = NAME\n",
    "    Type = 'MOORING'\n",
    "    project = 'PISTON'\n",
    "    t0 = limits['t0']\n",
    "    t1 = limits['t1']\n",
    "    lon = limits['lon'][0]\n",
    "    lat = limits['lat'][0]\n",
    "    c.execute(\"INSERT INTO LoaderDB (name, type, project, t0,t1,lon,lat) VALUES (?,?,?,?,?,?,?)\",\n",
    "            (name, Type, project, t0, t1, lon, lat) )\n",
    "    conn.commit()"
   ]
  },
  {
   "cell_type": "code",
   "execution_count": 18,
   "id": "97122864",
   "metadata": {},
   "outputs": [],
   "source": [
    "create_table()\n",
    "data_entry('SIO3',limits)"
   ]
  },
  {
   "cell_type": "code",
   "execution_count": 29,
   "id": "9c242d26",
   "metadata": {},
   "outputs": [],
   "source": [
    "conn.row_factory = sqlite3.Row\n",
    "c = conn.cursor()\n",
    "c.execute('SELECT * from loaderDB')\n",
    "result = [dict(row) for row in c.fetchall()]"
   ]
  },
  {
   "cell_type": "code",
   "execution_count": 32,
   "id": "8e94aab6",
   "metadata": {},
   "outputs": [
    {
     "data": {
      "text/plain": [
       "dict"
      ]
     },
     "execution_count": 32,
     "metadata": {},
     "output_type": "execute_result"
    }
   ],
   "source": []
  },
  {
   "cell_type": "code",
   "execution_count": 51,
   "id": "da0eefa2",
   "metadata": {},
   "outputs": [
    {
     "name": "stdout",
     "output_type": "stream",
     "text": [
      "{'num_1': 2, 'num_2': 3}\n"
     ]
    }
   ],
   "source": [
    "mydic = {'num_1' : 2, 'num_2':3}\n",
    "print(mydic)"
   ]
  },
  {
   "cell_type": "code",
   "execution_count": 50,
   "id": "9483ad2b",
   "metadata": {},
   "outputs": [
    {
     "name": "stdout",
     "output_type": "stream",
     "text": [
      "2\n",
      "3\n"
     ]
    }
   ],
   "source": [
    "for i in [1,2]:\n",
    "    print(mydic[ f'num_{i}'])\n",
    "    "
   ]
  },
  {
   "cell_type": "code",
   "execution_count": 54,
   "id": "52074199",
   "metadata": {},
   "outputs": [],
   "source": [
    "c.close()\n",
    "conn.close()"
   ]
  },
  {
   "cell_type": "code",
   "execution_count": 16,
   "id": "a8353564",
   "metadata": {},
   "outputs": [
    {
     "data": {
      "text/plain": [
       "True"
      ]
     },
     "execution_count": 16,
     "metadata": {},
     "output_type": "execute_result"
    }
   ],
   "source": []
  }
 ],
 "metadata": {
  "kernelspec": {
   "display_name": "Python 3",
   "language": "python",
   "name": "python3"
  },
  "language_info": {
   "codemirror_mode": {
    "name": "ipython",
    "version": 3
   },
   "file_extension": ".py",
   "mimetype": "text/x-python",
   "name": "python",
   "nbconvert_exporter": "python",
   "pygments_lexer": "ipython3",
   "version": "3.8.8"
  }
 },
 "nbformat": 4,
 "nbformat_minor": 5
}
